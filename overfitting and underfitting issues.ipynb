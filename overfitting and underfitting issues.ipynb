{
  "cells": [
    {
      "cell_type": "markdown",
      "metadata": {
        "id": "view-in-github",
        "colab_type": "text"
      },
      "source": [
        "<a href=\"https://colab.research.google.com/github/Ritesh1126/Deep-Learning/blob/main/overfitting%20and%20underfitting%20issues.ipynb\" target=\"_parent\"><img src=\"https://colab.research.google.com/assets/colab-badge.svg\" alt=\"Open In Colab\"/></a>"
      ]
    },
    {
      "cell_type": "code",
      "source": [
        "#generating Synthetic Sample dataset\n",
        "\n",
        "import numpy as np\n",
        "\n",
        "np.random.seed(0)\n",
        "n_sample = 30\n",
        "true_function = lambda X: np.cos(1.5 * np.pi * X)\n",
        "\n",
        "X = np.sort(np.random.rand(n_sample))  # Random samples sorted in ascending order\n",
        "y = true_function(X) + np.random.randn(n_sample) * 0.1\n",
        "\n",
        "\n"
      ],
      "metadata": {
        "id": "iT5S79GQ8FAF"
      },
      "execution_count": 13,
      "outputs": []
    },
    {
      "cell_type": "code",
      "source": [
        "from sklearn.model_selection import train_test_split\n",
        "\n",
        "# Suppose X and y are your data arrays\n",
        "# X can be a 1D array or 2D array (features), y is target\n",
        "\n",
        "X_train, X_test, y_train, y_test = train_test_split(\n",
        "    X, y, test_size=0.2, random_state=42\n",
        ")\n",
        "\n",
        "print(\"Train size:\", len(X_train))\n",
        "print(\"Test size:\", len(X_test))\n"
      ],
      "metadata": {
        "id": "8BBXD0Tt-NuM",
        "outputId": "df0a06ad-0ac0-4d9b-cd3a-78d8c05af826",
        "colab": {
          "base_uri": "https://localhost:8080/"
        }
      },
      "execution_count": 14,
      "outputs": [
        {
          "output_type": "stream",
          "name": "stdout",
          "text": [
            "Train size: 24\n",
            "Test size: 6\n"
          ]
        }
      ]
    }
  ],
  "metadata": {
    "colab": {
      "name": "Welcome To Colab",
      "toc_visible": true,
      "provenance": [],
      "include_colab_link": true
    },
    "kernelspec": {
      "display_name": "Python 3",
      "name": "python3"
    }
  },
  "nbformat": 4,
  "nbformat_minor": 0
}